{
  "nbformat": 4,
  "nbformat_minor": 0,
  "metadata": {
    "colab": {
      "provenance": []
    },
    "kernelspec": {
      "name": "python3",
      "display_name": "Python 3"
    },
    "language_info": {
      "name": "python"
    },
    "accelerator": "GPU"
  },
  "cells": [
    {
      "cell_type": "code",
      "execution_count": null,
      "metadata": {
        "id": "GoIoBnr9K103"
      },
      "outputs": [],
      "source": [
        "import pandas as pd\n",
        "import numpy as np\n",
        "import matplotlib.pyplot as plt\n",
        "import datetime\n",
        "import random\n",
        "import matplotlib.image as mpimg\n",
        "from datetime import datetime"
      ]
    },
    {
      "cell_type": "code",
      "source": [
        "from collections import namedtuple, deque\n",
        "import torch\n",
        "import torch.nn as nn\n",
        "import torch.nn.functional as F\n",
        "import torch.optim as optim"
      ],
      "metadata": {
        "id": "lU7gDCp_I6BW"
      },
      "execution_count": null,
      "outputs": []
    },
    {
      "cell_type": "code",
      "source": [
        "from google.colab import drive\n",
        "drive.mount('/content/drive')"
      ],
      "metadata": {
        "colab": {
          "base_uri": "https://localhost:8080/"
        },
        "id": "sjVbrciTd4Um",
        "outputId": "ee5e0694-8472-4d12-b1ef-5f463e2efc19"
      },
      "execution_count": null,
      "outputs": [
        {
          "output_type": "stream",
          "name": "stdout",
          "text": [
            "Mounted at /content/drive\n"
          ]
        }
      ]
    },
    {
      "cell_type": "code",
      "source": [
        "Dataset_path_pastora = \"/content/drive/MyDrive/Reinforcement_learning/Demanda_Pastora.xlsx\"\n",
        "Dataset_path_miraflores = \"/content/drive/MyDrive/Reinforcement_learning/Demanda_miraflores.xlsx\""
      ],
      "metadata": {
        "id": "wYooScNRd-Xv"
      },
      "execution_count": null,
      "outputs": []
    },
    {
      "cell_type": "code",
      "source": [
        "data_demanda_pastora=pd.read_excel(Dataset_path_pastora)\n",
        "data_demanda_pastora.index=data_demanda_pastora['Fecha']\n",
        "data_demanda_pastora = data_demanda_pastora[~data_demanda_pastora.index.duplicated(keep='first')]\n",
        "data_demanda_pastora=data_demanda_pastora.sort_index()\n",
        "data_demanda_pastora=data_demanda_pastora.asfreq('1H', method='ffill')\n",
        "data_demanda_pastora.head()\n",
        "data_demanda_pastora['Valor'].plot()"
      ],
      "metadata": {
        "id": "1M5cPfV_aqGU",
        "colab": {
          "base_uri": "https://localhost:8080/",
          "height": 311
        },
        "outputId": "49dae0d5-d0bf-4d7c-fba1-079b54a7c74c"
      },
      "execution_count": null,
      "outputs": [
        {
          "output_type": "execute_result",
          "data": {
            "text/plain": [
              "<matplotlib.axes._subplots.AxesSubplot at 0x7f42252efaf0>"
            ]
          },
          "metadata": {},
          "execution_count": 5
        },
        {
          "output_type": "display_data",
          "data": {
            "text/plain": [
              "<Figure size 432x288 with 1 Axes>"
            ],
            "image/png": "[encoded data removed]"
          },
          "metadata": {
            "needs_background": "light"
          }
        }
      ]
    },
    {
      "cell_type": "code",
      "source": [
        "data_demanda_pastora['Valor'][data_demanda_pastora['Valor']<24.58] = data_demanda_pastora['Valor'].quantile(0.02)\n",
        "data_demanda_pastora['Valor'][data_demanda_pastora['Valor']>124.52] = data_demanda_pastora['Valor'].quantile(0.98)"
      ],
      "metadata": {
        "colab": {
          "base_uri": "https://localhost:8080/"
        },
        "id": "IM5ycjoulAuH",
        "outputId": "95195e22-b4f8-486c-bf32-876f27cc6e6b"
      },
      "execution_count": null,
      "outputs": [
        {
          "output_type": "stream",
          "name": "stderr",
          "text": [
            "<ipython-input-6-f7b348d36041>:1: SettingWithCopyWarning: \n",
            "A value is trying to be set on a copy of a slice from a DataFrame\n",
            "\n",
            "See the caveats in the documentation: https://pandas.pydata.org/pandas-docs/stable/user_guide/indexing.html#returning-a-view-versus-a-copy\n",
            "  data_demanda_pastora['Valor'][data_demanda_pastora['Valor']<24.58] = data_demanda_pastora['Valor'].quantile(0.02)\n",
            "<ipython-input-6-f7b348d36041>:2: SettingWithCopyWarning: \n",
            "A value is trying to be set on a copy of a slice from a DataFrame\n",
            "\n",
            "See the caveats in the documentation: https://pandas.pydata.org/pandas-docs/stable/user_guide/indexing.html#returning-a-view-versus-a-copy\n",
            "  data_demanda_pastora['Valor'][data_demanda_pastora['Valor']>124.52] = data_demanda_pastora['Valor'].quantile(0.98)\n"
          ]
        }
      ]
    },
    {
      "cell_type": "code",
      "source": [
        "data_demanda_pastora['hora'] = pd.DatetimeIndex(data_demanda_pastora['Fecha']).hour"
      ],
      "metadata": {
        "id": "zEVzRBQTlFkd"
      },
      "execution_count": null,
      "outputs": []
    },
    {
      "cell_type": "code",
      "source": [
        "data_demanda_pastora.head(25)"
      ],
      "metadata": {
        "colab": {
          "base_uri": "https://localhost:8080/",
          "height": 864
        },
        "id": "wZCJDuL6m46_",
        "outputId": "aceb0d5d-8ff0-43d6-bdac-f09dfb06f749"
      },
      "execution_count": null,
      "outputs": [
        {
          "output_type": "execute_result",
          "data": {
            "text/plain": [
              "                                  Fecha       Valor  hora\n",
              "Fecha                                                    \n",
              "2020-12-01 00:00:00 2020-12-01 00:00:00   42.710598     0\n",
              "2020-12-01 01:00:00 2020-12-01 01:00:00   33.223904     1\n",
              "2020-12-01 02:00:00 2020-12-01 02:00:00   29.838856     2\n",
              "2020-12-01 03:00:00 2020-12-01 03:00:00   29.837402     3\n",
              "2020-12-01 04:00:00 2020-12-01 04:00:00   38.123222     4\n",
              "2020-12-01 05:00:00 2020-12-01 05:00:00   52.160778     5\n",
              "2020-12-01 06:00:00 2020-12-01 06:00:00   71.938728     6\n",
              "2020-12-01 07:00:00 2020-12-01 07:00:00   82.213676     7\n",
              "2020-12-01 08:00:00 2020-12-01 08:00:00   82.623955     8\n",
              "2020-12-01 09:00:00 2020-12-01 09:00:00   90.669014     9\n",
              "2020-12-01 10:00:00 2020-12-01 10:00:00   99.330963    10\n",
              "2020-12-01 11:00:00 2020-12-01 11:00:00  102.920853    11\n",
              "2020-12-01 12:00:00 2020-12-01 12:00:00  102.774193    12\n",
              "2020-12-01 13:00:00 2020-12-01 13:00:00   97.808708    13\n",
              "2020-12-01 14:00:00 2020-12-01 14:00:00   88.905319    14\n",
              "2020-12-01 15:00:00 2020-12-01 15:00:00   78.152847    15\n",
              "2020-12-01 16:00:00 2020-12-01 16:00:00   77.951935    16\n",
              "2020-12-01 17:00:00 2020-12-01 17:00:00   75.099297    17\n",
              "2020-12-01 18:00:00 2020-12-01 18:00:00   80.391617    18\n",
              "2020-12-01 19:00:00 2020-12-01 19:00:00   86.202492    19\n",
              "2020-12-01 20:00:00 2020-12-01 20:00:00   81.008774    20\n",
              "2020-12-01 21:00:00 2020-12-01 21:00:00   74.718040    21\n",
              "2020-12-01 22:00:00 2020-12-01 22:00:00   63.993061    22\n",
              "2020-12-01 23:00:00 2020-12-01 23:00:00   49.781433    23\n",
              "2020-12-02 00:00:00 2020-12-02 00:00:00   38.202877     0"
            ],
            "text/html": [
              "\n",
              "  <div id=\"df-80591eb4-aea1-47fe-b6c4-2a816d04094a\">\n",
              "    <div class=\"colab-df-container\">\n",
              "      <div>\n",
              "<style scoped>\n",
              "    .dataframe tbody tr th:only-of-type {\n",
              "        vertical-align: middle;\n",
              "    }\n",
              "\n",
              "    .dataframe tbody tr th {\n",
              "        vertical-align: top;\n",
              "    }\n",
              "\n",
              "    .dataframe thead th {\n",
              "        text-align: right;\n",
              "    }\n",
              "</style>\n",
              "<table border=\"1\" class=\"dataframe\">\n",
              "  <thead>\n",
              "    <tr style=\"text-align: right;\">\n",
              "      <th></th>\n",
              "      <th>Fecha</th>\n",
              "      <th>Valor</th>\n",
              "      <th>hora</th>\n",
              "    </tr>\n",
              "    <tr>\n",
              "      <th>Fecha</th>\n",
              "      <th></th>\n",
              "      <th></th>\n",
              "      <th></th>\n",
              "    </tr>\n",
              "  </thead>\n",
              "  <tbody>\n",
              "    <tr>\n",
              "      <th>2020-12-01 00:00:00</th>\n",
              "      <td>2020-12-01 00:00:00</td>\n",
              "      <td>42.710598</td>\n",
              "      <td>0</td>\n",
              "    </tr>\n",
              "    <tr>\n",
              "      <th>2020-12-01 01:00:00</th>\n",
              "      <td>2020-12-01 01:00:00</td>\n",
              "      <td>33.223904</td>\n",
              "      <td>1</td>\n",
              "    </tr>\n",
              "    <tr>\n",
              "      <th>2020-12-01 02:00:00</th>\n",
              "      <td>2020-12-01 02:00:00</td>\n",
              "      <td>29.838856</td>\n",
              "      <td>2</td>\n",
              "    </tr>\n",
              "    <tr>\n",
              "      <th>2020-12-01 03:00:00</th>\n",
              "      <td>2020-12-01 03:00:00</td>\n",
              "      <td>29.837402</td>\n",
              "      <td>3</td>\n",
              "    </tr>\n",
              "    <tr>\n",
              "      <th>2020-12-01 04:00:00</th>\n",
              "      <td>2020-12-01 04:00:00</td>\n",
              "      <td>38.123222</td>\n",
              "      <td>4</td>\n",
              "    </tr>\n",
              "    <tr>\n",
              "      <th>2020-12-01 05:00:00</th>\n",
              "      <td>2020-12-01 05:00:00</td>\n",
              "      <td>52.160778</td>\n",
              "      <td>5</td>\n",
              "    </tr>\n",
              "    <tr>\n",
              "      <th>2020-12-01 06:00:00</th>\n",
              "      <td>2020-12-01 06:00:00</td>\n",
              "      <td>71.938728</td>\n",
              "      <td>6</td>\n",
              "    </tr>\n",
              "    <tr>\n",
              "      <th>2020-12-01 07:00:00</th>\n",
              "      <td>2020-12-01 07:00:00</td>\n",
              "      <td>82.213676</td>\n",
              "      <td>7</td>\n",
              "    </tr>\n",
              "    <tr>\n",
              "      <th>2020-12-01 08:00:00</th>\n",
              "      <td>2020-12-01 08:00:00</td>\n",
              "      <td>82.623955</td>\n",
              "      <td>8</td>\n",
              "    </tr>\n",
              "    <tr>\n",
              "      <th>2020-12-01 09:00:00</th>\n",
              "      <td>2020-12-01 09:00:00</td>\n",
              "      <td>90.669014</td>\n",
              "      <td>9</td>\n",
              "    </tr>\n",
              "    <tr>\n",
              "      <th>2020-12-01 10:00:00</th>\n",
              "      <td>2020-12-01 10:00:00</td>\n",
              "      <td>99.330963</td>\n",
              "      <td>10</td>\n",
              "    </tr>\n",
              "    <tr>\n",
              "      <th>2020-12-01 11:00:00</th>\n",
              "      <td>2020-12-01 11:00:00</td>\n",
              "      <td>102.920853</td>\n",
              "      <td>11</td>\n",
              "    </tr>\n",
              "    <tr>\n",
              "      <th>2020-12-01 12:00:00</th>\n",
              "      <td>2020-12-01 12:00:00</td>\n",
              "      <td>102.774193</td>\n",
              "      <td>12</td>\n",
              "    </tr>\n",
              "    <tr>\n",
              "      <th>2020-12-01 13:00:00</th>\n",
              "      <td>2020-12-01 13:00:00</td>\n",
              "      <td>97.808708</td>\n",
              "      <td>13</td>\n",
              "    </tr>\n",
              "    <tr>\n",
              "      <th>2020-12-01 14:00:00</th>\n",
              "      <td>2020-12-01 14:00:00</td>\n",
              "      <td>88.905319</td>\n",
              "      <td>14</td>\n",
              "    </tr>\n",
              "    <tr>\n",
              "      <th>2020-12-01 15:00:00</th>\n",
              "      <td>2020-12-01 15:00:00</td>\n",
              "      <td>78.152847</td>\n",
              "      <td>15</td>\n",
              "    </tr>\n",
              "    <tr>\n",
              "      <th>2020-12-01 16:00:00</th>\n",
              "      <td>2020-12-01 16:00:00</td>\n",
              "      <td>77.951935</td>\n",
              "      <td>16</td>\n",
              "    </tr>\n",
              "    <tr>\n",
              "      <th>2020-12-01 17:00:00</th>\n",
              "      <td>2020-12-01 17:00:00</td>\n",
              "      <td>75.099297</td>\n",
              "      <td>17</td>\n",
              "    </tr>\n",
              "    <tr>\n",
              "      <th>2020-12-01 18:00:00</th>\n",
              "      <td>2020-12-01 18:00:00</td>\n",
              "      <td>80.391617</td>\n",
              "      <td>18</td>\n",
              "    </tr>\n",
              "    <tr>\n",
              "      <th>2020-12-01 19:00:00</th>\n",
              "      <td>2020-12-01 19:00:00</td>\n",
              "      <td>86.202492</td>\n",
              "      <td>19</td>\n",
              "    </tr>\n",
              "    <tr>\n",
              "      <th>2020-12-01 20:00:00</th>\n",
              "      <td>2020-12-01 20:00:00</td>\n",
              "      <td>81.008774</td>\n",
              "      <td>20</td>\n",
              "    </tr>\n",
              "    <tr>\n",
              "      <th>2020-12-01 21:00:00</th>\n",
              "      <td>2020-12-01 21:00:00</td>\n",
              "      <td>74.718040</td>\n",
              "      <td>21</td>\n",
              "    </tr>\n",
              "    <tr>\n",
              "      <th>2020-12-01 22:00:00</th>\n",
              "      <td>2020-12-01 22:00:00</td>\n",
              "      <td>63.993061</td>\n",
              "      <td>22</td>\n",
              "    </tr>\n",
              "    <tr>\n",
              "      <th>2020-12-01 23:00:00</th>\n",
              "      <td>2020-12-01 23:00:00</td>\n",
              "      <td>49.781433</td>\n",
              "      <td>23</td>\n",
              "    </tr>\n",
              "    <tr>\n",
              "      <th>2020-12-02 00:00:00</th>\n",
              "      <td>2020-12-02 00:00:00</td>\n",
              "      <td>38.202877</td>\n",
              "      <td>0</td>\n",
              "    </tr>\n",
              "  </tbody>\n",
              "</table>\n",
              "</div>\n",
              "      <button class=\"colab-df-convert\" onclick=\"convertToInteractive('df-80591eb4-aea1-47fe-b6c4-2a816d04094a')\"\n",
              "              title=\"Convert this dataframe to an interactive table.\"\n",
              "              style=\"display:none;\">\n",
              "        \n",
              "  <svg xmlns=\"http://www.w3.org/2000/svg\" height=\"24px\"viewBox=\"0 0 24 24\"\n",
              "       width=\"24px\">\n",
              "    <path d=\"M0 0h24v24H0V0z\" fill=\"none\"/>\n",
              "    <path d=\"M18.56 5.44l.94 2.06.94-2.06 2.06-.94-2.06-.94-.94-2.06-.94 2.06-2.06.94zm-11 1L8.5 8.5l.94-2.06 2.06-.94-2.06-.94L8.5 2.5l-.94 2.06-2.06.94zm10 10l.94 2.06.94-2.06 2.06-.94-2.06-.94-.94-2.06-.94 2.06-2.06.94z\"/><path d=\"M17.41 7.96l-1.37-1.37c-.4-.4-.92-.59-1.43-.59-.52 0-1.04.2-1.43.59L10.3 9.45l-7.72 7.72c-.78.78-.78 2.05 0 2.83L4 21.41c.39.39.9.59 1.41.59.51 0 1.02-.2 1.41-.59l7.78-7.78 2.81-2.81c.8-.78.8-2.07 0-2.86zM5.41 20L4 18.59l7.72-7.72 1.47 1.35L5.41 20z\"/>\n",
              "  </svg>\n",
              "      </button>\n",
              "      \n",
              "  <style>\n",
              "    .colab-df-container {\n",
              "      display:flex;\n",
              "      flex-wrap:wrap;\n",
              "      gap: 12px;\n",
              "    }\n",
              "\n",
              "    .colab-df-convert {\n",
              "      background-color: #E8F0FE;\n",
              "      border: none;\n",
              "      border-radius: 50%;\n",
              "      cursor: pointer;\n",
              "      display: none;\n",
              "      fill: #1967D2;\n",
              "      height: 32px;\n",
              "      padding: 0 0 0 0;\n",
              "      width: 32px;\n",
              "    }\n",
              "\n",
              "    .colab-df-convert:hover {\n",
              "      background-color: #E2EBFA;\n",
              "      box-shadow: 0px 1px 2px rgba(60, 64, 67, 0.3), 0px 1px 3px 1px rgba(60, 64, 67, 0.15);\n",
              "      fill: #174EA6;\n",
              "    }\n",
              "\n",
              "    [theme=dark] .colab-df-convert {\n",
              "      background-color: #3B4455;\n",
              "      fill: #D2E3FC;\n",
              "    }\n",
              "\n",
              "    [theme=dark] .colab-df-convert:hover {\n",
              "      background-color: #434B5C;\n",
              "      box-shadow: 0px 1px 3px 1px rgba(0, 0, 0, 0.15);\n",
              "      filter: drop-shadow(0px 1px 2px rgba(0, 0, 0, 0.3));\n",
              "      fill: #FFFFFF;\n",
              "    }\n",
              "  </style>\n",
              "\n",
              "      <script>\n",
              "        const buttonEl =\n",
              "          document.querySelector('#df-80591eb4-aea1-47fe-b6c4-2a816d04094a button.colab-df-convert');\n",
              "        buttonEl.style.display =\n",
              "          google.colab.kernel.accessAllowed ? 'block' : 'none';\n",
              "\n",
              "        async function convertToInteractive(key) {\n",
              "          const element = document.querySelector('#df-80591eb4-aea1-47fe-b6c4-2a816d04094a');\n",
              "          const dataTable =\n",
              "            await google.colab.kernel.invokeFunction('convertToInteractive',\n",
              "                                                     [key], {});\n",
              "          if (!dataTable) return;\n",
              "\n",
              "          const docLinkHtml = 'Like what you see? Visit the ' +\n",
              "            '<a target=\"_blank\" href=https://colab.research.google.com/notebooks/data_table.ipynb>data table notebook</a>'\n",
              "            + ' to learn more about interactive tables.';\n",
              "          element.innerHTML = '';\n",
              "          dataTable['output_type'] = 'display_data';\n",
              "          await google.colab.output.renderOutput(dataTable, element);\n",
              "          const docLink = document.createElement('div');\n",
              "          docLink.innerHTML = docLinkHtml;\n",
              "          element.appendChild(docLink);\n",
              "        }\n",
              "      </script>\n",
              "    </div>\n",
              "  </div>\n",
              "  "
            ]
          },
          "metadata": {},
          "execution_count": 8
        }
      ]
    },
    {
      "cell_type": "code",
      "source": [
        "data_demanda_miraflores=pd.read_excel(Dataset_path_miraflores)\n",
        "data_demanda_miraflores.index=data_demanda_miraflores['Fecha']\n",
        "data_demanda_miraflores = data_demanda_miraflores[~data_demanda_miraflores.index.duplicated(keep='first')]\n",
        "data_demanda_miraflores=data_demanda_miraflores.sort_index()\n",
        "data_demanda_miraflores=data_demanda_miraflores.asfreq('1H', method='ffill')\n",
        "data_demanda_miraflores.head()\n",
        "data_demanda_miraflores['Valor'].plot()"
      ],
      "metadata": {
        "colab": {
          "base_uri": "https://localhost:8080/",
          "height": 308
        },
        "id": "HXOKdYmWBL96",
        "outputId": "1ef46885-26df-4642-acd1-90b1b02d4b83"
      },
      "execution_count": null,
      "outputs": [
        {
          "output_type": "execute_result",
          "data": {
            "text/plain": [
              "<matplotlib.axes._subplots.AxesSubplot at 0x7f42244f6c70>"
            ]
          },
          "metadata": {},
          "execution_count": 9
        },
        {
          "output_type": "display_data",
          "data": {
            "text/plain": [
              "<Figure size 432x288 with 1 Axes>"
            ],
            "image/png": "[encoded data removed]"
          },
          "metadata": {
            "needs_background": "light"
          }
        }
      ]
    },
    {
      "cell_type": "code",
      "source": [
        "data_demanda_miraflores.describe()"
      ],
      "metadata": {
        "colab": {
          "base_uri": "https://localhost:8080/",
          "height": 300
        },
        "id": "SEomCXTtBpV5",
        "outputId": "352ed516-c695-4315-b5b5-f608edc5e4ff"
      },
      "execution_count": null,
      "outputs": [
        {
          "output_type": "execute_result",
          "data": {
            "text/plain": [
              "            ID         Valor\n",
              "count  25833.0  25833.000000\n",
              "mean      58.0    153.459315\n",
              "std        0.0     45.094048\n",
              "min       58.0     -0.999000\n",
              "25%       58.0    110.973373\n",
              "50%       58.0    168.814484\n",
              "75%       58.0    193.085052\n",
              "max       58.0    269.264404"
            ],
            "text/html": [
              "\n",
              "  <div id=\"df-e1a024f2-da74-4d23-bea7-ceb4fa36cd62\">\n",
              "    <div class=\"colab-df-container\">\n",
              "      <div>\n",
              "<style scoped>\n",
              "    .dataframe tbody tr th:only-of-type {\n",
              "        vertical-align: middle;\n",
              "    }\n",
              "\n",
              "    .dataframe tbody tr th {\n",
              "        vertical-align: top;\n",
              "    }\n",
              "\n",
              "    .dataframe thead th {\n",
              "        text-align: right;\n",
              "    }\n",
              "</style>\n",
              "<table border=\"1\" class=\"dataframe\">\n",
              "  <thead>\n",
              "    <tr style=\"text-align: right;\">\n",
              "      <th></th>\n",
              "      <th>ID</th>\n",
              "      <th>Valor</th>\n",
              "    </tr>\n",
              "  </thead>\n",
              "  <tbody>\n",
              "    <tr>\n",
              "      <th>count</th>\n",
              "      <td>25833.0</td>\n",
              "      <td>25833.000000</td>\n",
              "    </tr>\n",
              "    <tr>\n",
              "      <th>mean</th>\n",
              "      <td>58.0</td>\n",
              "      <td>153.459315</td>\n",
              "    </tr>\n",
              "    <tr>\n",
              "      <th>std</th>\n",
              "      <td>0.0</td>\n",
              "      <td>45.094048</td>\n",
              "    </tr>\n",
              "    <tr>\n",
              "      <th>min</th>\n",
              "      <td>58.0</td>\n",
              "      <td>-0.999000</td>\n",
              "    </tr>\n",
              "    <tr>\n",
              "      <th>25%</th>\n",
              "      <td>58.0</td>\n",
              "      <td>110.973373</td>\n",
              "    </tr>\n",
              "    <tr>\n",
              "      <th>50%</th>\n",
              "      <td>58.0</td>\n",
              "      <td>168.814484</td>\n",
              "    </tr>\n",
              "    <tr>\n",
              "      <th>75%</th>\n",
              "      <td>58.0</td>\n",
              "      <td>193.085052</td>\n",
              "    </tr>\n",
              "    <tr>\n",
              "      <th>max</th>\n",
              "      <td>58.0</td>\n",
              "      <td>269.264404</td>\n",
              "    </tr>\n",
              "  </tbody>\n",
              "</table>\n",
              "</div>\n",
              "      <button class=\"colab-df-convert\" onclick=\"convertToInteractive('df-e1a024f2-da74-4d23-bea7-ceb4fa36cd62')\"\n",
              "              title=\"Convert this dataframe to an interactive table.\"\n",
              "              style=\"display:none;\">\n",
              "        \n",
              "  <svg xmlns=\"http://www.w3.org/2000/svg\" height=\"24px\"viewBox=\"0 0 24 24\"\n",
              "       width=\"24px\">\n",
              "    <path d=\"M0 0h24v24H0V0z\" fill=\"none\"/>\n",
              "    <path d=\"M18.56 5.44l.94 2.06.94-2.06 2.06-.94-2.06-.94-.94-2.06-.94 2.06-2.06.94zm-11 1L8.5 8.5l.94-2.06 2.06-.94-2.06-.94L8.5 2.5l-.94 2.06-2.06.94zm10 10l.94 2.06.94-2.06 2.06-.94-2.06-.94-.94-2.06-.94 2.06-2.06.94z\"/><path d=\"M17.41 7.96l-1.37-1.37c-.4-.4-.92-.59-1.43-.59-.52 0-1.04.2-1.43.59L10.3 9.45l-7.72 7.72c-.78.78-.78 2.05 0 2.83L4 21.41c.39.39.9.59 1.41.59.51 0 1.02-.2 1.41-.59l7.78-7.78 2.81-2.81c.8-.78.8-2.07 0-2.86zM5.41 20L4 18.59l7.72-7.72 1.47 1.35L5.41 20z\"/>\n",
              "  </svg>\n",
              "      </button>\n",
              "      \n",
              "  <style>\n",
              "    .colab-df-container {\n",
              "      display:flex;\n",
              "      flex-wrap:wrap;\n",
              "      gap: 12px;\n",
              "    }\n",
              "\n",
              "    .colab-df-convert {\n",
              "      background-color: #E8F0FE;\n",
              "      border: none;\n",
              "      border-radius: 50%;\n",
              "      cursor: pointer;\n",
              "      display: none;\n",
              "      fill: #1967D2;\n",
              "      height: 32px;\n",
              "      padding: 0 0 0 0;\n",
              "      width: 32px;\n",
              "    }\n",
              "\n",
              "    .colab-df-convert:hover {\n",
              "      background-color: #E2EBFA;\n",
              "      box-shadow: 0px 1px 2px rgba(60, 64, 67, 0.3), 0px 1px 3px 1px rgba(60, 64, 67, 0.15);\n",
              "      fill: #174EA6;\n",
              "    }\n",
              "\n",
              "    [theme=dark] .colab-df-convert {\n",
              "      background-color: #3B4455;\n",
              "      fill: #D2E3FC;\n",
              "    }\n",
              "\n",
              "    [theme=dark] .colab-df-convert:hover {\n",
              "      background-color: #434B5C;\n",
              "      box-shadow: 0px 1px 3px 1px rgba(0, 0, 0, 0.15);\n",
              "      filter: drop-shadow(0px 1px 2px rgba(0, 0, 0, 0.3));\n",
              "      fill: #FFFFFF;\n",
              "    }\n",
              "  </style>\n",
              "\n",
              "      <script>\n",
              "        const buttonEl =\n",
              "          document.querySelector('#df-e1a024f2-da74-4d23-bea7-ceb4fa36cd62 button.colab-df-convert');\n",
              "        buttonEl.style.display =\n",
              "          google.colab.kernel.accessAllowed ? 'block' : 'none';\n",
              "\n",
              "        async function convertToInteractive(key) {\n",
              "          const element = document.querySelector('#df-e1a024f2-da74-4d23-bea7-ceb4fa36cd62');\n",
              "          const dataTable =\n",
              "            await google.colab.kernel.invokeFunction('convertToInteractive',\n",
              "                                                     [key], {});\n",
              "          if (!dataTable) return;\n",
              "\n",
              "          const docLinkHtml = 'Like what you see? Visit the ' +\n",
              "            '<a target=\"_blank\" href=https://colab.research.google.com/notebooks/data_table.ipynb>data table notebook</a>'\n",
              "            + ' to learn more about interactive tables.';\n",
              "          element.innerHTML = '';\n",
              "          dataTable['output_type'] = 'display_data';\n",
              "          await google.colab.output.renderOutput(dataTable, element);\n",
              "          const docLink = document.createElement('div');\n",
              "          docLink.innerHTML = docLinkHtml;\n",
              "          element.appendChild(docLink);\n",
              "        }\n",
              "      </script>\n",
              "    </div>\n",
              "  </div>\n",
              "  "
            ]
          },
          "metadata": {},
          "execution_count": 10
        }
      ]
    },
    {
      "cell_type": "code",
      "source": [
        "data_demanda_miraflores.quantile(0.02)"
      ],
      "metadata": {
        "colab": {
          "base_uri": "https://localhost:8080/"
        },
        "id": "JA9Jvo2eBu51",
        "outputId": "1da98b64-64f7-49cf-ff36-3b13913f6a4d"
      },
      "execution_count": null,
      "outputs": [
        {
          "output_type": "execute_result",
          "data": {
            "text/plain": [
              "ID       58.000000\n",
              "Valor    86.445602\n",
              "Name: 0.02, dtype: float64"
            ]
          },
          "metadata": {},
          "execution_count": 11
        }
      ]
    },
    {
      "cell_type": "code",
      "source": [
        "data_demanda_miraflores.quantile(0.98)"
      ],
      "metadata": {
        "colab": {
          "base_uri": "https://localhost:8080/"
        },
        "id": "_71aqftzB1fq",
        "outputId": "59f285cb-dcb0-4c47-abdd-3b36a66b7ba4"
      },
      "execution_count": null,
      "outputs": [
        {
          "output_type": "execute_result",
          "data": {
            "text/plain": [
              "ID        58.000000\n",
              "Valor    214.761664\n",
              "Name: 0.98, dtype: float64"
            ]
          },
          "metadata": {},
          "execution_count": 12
        }
      ]
    },
    {
      "cell_type": "code",
      "source": [
        "data_demanda_miraflores['Valor'][data_demanda_miraflores['Valor']<86.44] = data_demanda_miraflores['Valor'].quantile(0.02)\n",
        "data_demanda_miraflores['Valor'][data_demanda_miraflores['Valor']>214.76] = data_demanda_miraflores['Valor'].quantile(0.98)"
      ],
      "metadata": {
        "colab": {
          "base_uri": "https://localhost:8080/"
        },
        "id": "FqEtruU_B7tI",
        "outputId": "92f03a48-a3ea-4230-eb79-cf2752b873d2"
      },
      "execution_count": null,
      "outputs": [
        {
          "output_type": "stream",
          "name": "stderr",
          "text": [
            "<ipython-input-13-4017849bafea>:1: SettingWithCopyWarning: \n",
            "A value is trying to be set on a copy of a slice from a DataFrame\n",
            "\n",
            "See the caveats in the documentation: https://pandas.pydata.org/pandas-docs/stable/user_guide/indexing.html#returning-a-view-versus-a-copy\n",
            "  data_demanda_miraflores['Valor'][data_demanda_miraflores['Valor']<86.44] = data_demanda_miraflores['Valor'].quantile(0.02)\n",
            "<ipython-input-13-4017849bafea>:2: SettingWithCopyWarning: \n",
            "A value is trying to be set on a copy of a slice from a DataFrame\n",
            "\n",
            "See the caveats in the documentation: https://pandas.pydata.org/pandas-docs/stable/user_guide/indexing.html#returning-a-view-versus-a-copy\n",
            "  data_demanda_miraflores['Valor'][data_demanda_miraflores['Valor']>214.76] = data_demanda_miraflores['Valor'].quantile(0.98)\n"
          ]
        }
      ]
    },
    {
      "cell_type": "code",
      "source": [
        "data_demanda_miraflores['hora'] = pd.DatetimeIndex(data_demanda_miraflores['Fecha']).hour"
      ],
      "metadata": {
        "id": "fmVU0k94B7qI"
      },
      "execution_count": null,
      "outputs": []
    },
    {
      "cell_type": "code",
      "source": [
        "data_demanda_miraflores.head(25)"
      ],
      "metadata": {
        "colab": {
          "base_uri": "https://localhost:8080/",
          "height": 864
        },
        "id": "yGOglDVFCJOK",
        "outputId": "fad2b4e8-338d-4d75-83a7-1a98f43d6948"
      },
      "execution_count": null,
      "outputs": [
        {
          "output_type": "execute_result",
          "data": {
            "text/plain": [
              "                     ID               Fecha       Valor  hora\n",
              "Fecha                                                        \n",
              "2020-01-01 00:00:00  58 2020-01-01 00:00:00  111.095078     0\n",
              "2020-01-01 01:00:00  58 2020-01-01 01:00:00  111.308624     1\n",
              "2020-01-01 02:00:00  58 2020-01-01 02:00:00  111.596725     2\n",
              "2020-01-01 03:00:00  58 2020-01-01 03:00:00  111.972168     3\n",
              "2020-01-01 04:00:00  58 2020-01-01 04:00:00  112.333496     4\n",
              "2020-01-01 05:00:00  58 2020-01-01 05:00:00  112.748184     5\n",
              "2020-01-01 06:00:00  58 2020-01-01 06:00:00  112.863586     6\n",
              "2020-01-01 07:00:00  58 2020-01-01 07:00:00  112.627472     7\n",
              "2020-01-01 08:00:00  58 2020-01-01 08:00:00  112.330856     8\n",
              "2020-01-01 09:00:00  58 2020-01-01 09:00:00  111.958405     9\n",
              "2020-01-01 10:00:00  58 2020-01-01 10:00:00  111.452835    10\n",
              "2020-01-01 11:00:00  58 2020-01-01 11:00:00  110.939888    11\n",
              "2020-01-01 12:00:00  58 2020-01-01 12:00:00  110.620468    12\n",
              "2020-01-01 13:00:00  58 2020-01-01 13:00:00  110.488953    13\n",
              "2020-01-01 14:00:00  58 2020-01-01 14:00:00  110.435898    14\n",
              "2020-01-01 15:00:00  58 2020-01-01 15:00:00  110.446426    15\n",
              "2020-01-01 16:00:00  58 2020-01-01 16:00:00  110.748154    16\n",
              "2020-01-01 17:00:00  58 2020-01-01 17:00:00  193.497101    17\n",
              "2020-01-01 18:00:00  58 2020-01-01 18:00:00  193.085632    18\n",
              "2020-01-01 19:00:00  58 2020-01-01 19:00:00  192.788513    19\n",
              "2020-01-01 20:00:00  58 2020-01-01 20:00:00  192.646423    20\n",
              "2020-01-01 21:00:00  58 2020-01-01 21:00:00  192.499603    21\n",
              "2020-01-01 22:00:00  58 2020-01-01 22:00:00  192.941925    22\n",
              "2020-01-01 23:00:00  58 2020-01-01 23:00:00  121.037857    23\n",
              "2020-01-02 00:00:00  58 2020-01-02 00:00:00  110.908203     0"
            ],
            "text/html": [
              "\n",
              "  <div id=\"df-46942db4-e683-408b-8422-2a48d7d5540c\">\n",
              "    <div class=\"colab-df-container\">\n",
              "      <div>\n",
              "<style scoped>\n",
              "    .dataframe tbody tr th:only-of-type {\n",
              "        vertical-align: middle;\n",
              "    }\n",
              "\n",
              "    .dataframe tbody tr th {\n",
              "        vertical-align: top;\n",
              "    }\n",
              "\n",
              "    .dataframe thead th {\n",
              "        text-align: right;\n",
              "    }\n",
              "</style>\n",
              "<table border=\"1\" class=\"dataframe\">\n",
              "  <thead>\n",
              "    <tr style=\"text-align: right;\">\n",
              "      <th></th>\n",
              "      <th>ID</th>\n",
              "      <th>Fecha</th>\n",
              "      <th>Valor</th>\n",
              "      <th>hora</th>\n",
              "    </tr>\n",
              "    <tr>\n",
              "      <th>Fecha</th>\n",
              "      <th></th>\n",
              "      <th></th>\n",
              "      <th></th>\n",
              "      <th></th>\n",
              "    </tr>\n",
              "  </thead>\n",
              "  <tbody>\n",
              "    <tr>\n",
              "      <th>2020-01-01 00:00:00</th>\n",
              "      <td>58</td>\n",
              "      <td>2020-01-01 00:00:00</td>\n",
              "      <td>111.095078</td>\n",
              "      <td>0</td>\n",
              "    </tr>\n",
              "    <tr>\n",
              "      <th>2020-01-01 01:00:00</th>\n",
              "      <td>58</td>\n",
              "      <td>2020-01-01 01:00:00</td>\n",
              "      <td>111.308624</td>\n",
              "      <td>1</td>\n",
              "    </tr>\n",
              "    <tr>\n",
              "      <th>2020-01-01 02:00:00</th>\n",
              "      <td>58</td>\n",
              "      <td>2020-01-01 02:00:00</td>\n",
              "      <td>111.596725</td>\n",
              "      <td>2</td>\n",
              "    </tr>\n",
              "    <tr>\n",
              "      <th>2020-01-01 03:00:00</th>\n",
              "      <td>58</td>\n",
              "      <td>2020-01-01 03:00:00</td>\n",
              "      <td>111.972168</td>\n",
              "      <td>3</td>\n",
              "    </tr>\n",
              "    <tr>\n",
              "      <th>2020-01-01 04:00:00</th>\n",
              "      <td>58</td>\n",
              "      <td>2020-01-01 04:00:00</td>\n",
              "      <td>112.333496</td>\n",
              "      <td>4</td>\n",
              "    </tr>\n",
              "    <tr>\n",
              "      <th>2020-01-01 05:00:00</th>\n",
              "      <td>58</td>\n",
              "      <td>2020-01-01 05:00:00</td>\n",
              "      <td>112.748184</td>\n",
              "      <td>5</td>\n",
              "    </tr>\n",
              "    <tr>\n",
              "      <th>2020-01-01 06:00:00</th>\n",
              "      <td>58</td>\n",
              "      <td>2020-01-01 06:00:00</td>\n",
              "      <td>112.863586</td>\n",
              "      <td>6</td>\n",
              "    </tr>\n",
              "    <tr>\n",
              "      <th>2020-01-01 07:00:00</th>\n",
              "      <td>58</td>\n",
              "      <td>2020-01-01 07:00:00</td>\n",
              "      <td>112.627472</td>\n",
              "      <td>7</td>\n",
              "    </tr>\n",
              "    <tr>\n",
              "      <th>2020-01-01 08:00:00</th>\n",
              "      <td>58</td>\n",
              "      <td>2020-01-01 08:00:00</td>\n",
              "      <td>112.330856</td>\n",
              "      <td>8</td>\n",
              "    </tr>\n",
              "    <tr>\n",
              "      <th>2020-01-01 09:00:00</th>\n",
              "      <td>58</td>\n",
              "      <td>2020-01-01 09:00:00</td>\n",
              "      <td>111.958405</td>\n",
              "      <td>9</td>\n",
              "    </tr>\n",
              "    <tr>\n",
              "      <th>2020-01-01 10:00:00</th>\n",
              "      <td>58</td>\n",
              "      <td>2020-01-01 10:00:00</td>\n",
              "      <td>111.452835</td>\n",
              "      <td>10</td>\n",
              "    </tr>\n",
              "    <tr>\n",
              "      <th>2020-01-01 11:00:00</th>\n",
              "      <td>58</td>\n",
              "      <td>2020-01-01 11:00:00</td>\n",
              "      <td>110.939888</td>\n",
              "      <td>11</td>\n",
              "    </tr>\n",
              "    <tr>\n",
              "      <th>2020-01-01 12:00:00</th>\n",
              "      <td>58</td>\n",
              "      <td>2020-01-01 12:00:00</td>\n",
              "      <td>110.620468</td>\n",
              "      <td>12</td>\n",
              "    </tr>\n",
              "    <tr>\n",
              "      <th>2020-01-01 13:00:00</th>\n",
              "      <td>58</td>\n",
              "      <td>2020-01-01 13:00:00</td>\n",
              "      <td>110.488953</td>\n",
              "      <td>13</td>\n",
              "    </tr>\n",
              "    <tr>\n",
              "      <th>2020-01-01 14:00:00</th>\n",
              "      <td>58</td>\n",
              "      <td>2020-01-01 14:00:00</td>\n",
              "      <td>110.435898</td>\n",
              "      <td>14</td>\n",
              "    </tr>\n",
              "    <tr>\n",
              "      <th>2020-01-01 15:00:00</th>\n",
              "      <td>58</td>\n",
              "      <td>2020-01-01 15:00:00</td>\n",
              "      <td>110.446426</td>\n",
              "      <td>15</td>\n",
              "    </tr>\n",
              "    <tr>\n",
              "      <th>2020-01-01 16:00:00</th>\n",
              "      <td>58</td>\n",
              "      <td>2020-01-01 16:00:00</td>\n",
              "      <td>110.748154</td>\n",
              "      <td>16</td>\n",
              "    </tr>\n",
              "    <tr>\n",
              "      <th>2020-01-01 17:00:00</th>\n",
              "      <td>58</td>\n",
              "      <td>2020-01-01 17:00:00</td>\n",
              "      <td>193.497101</td>\n",
              "      <td>17</td>\n",
              "    </tr>\n",
              "    <tr>\n",
              "      <th>2020-01-01 18:00:00</th>\n",
              "      <td>58</td>\n",
              "      <td>2020-01-01 18:00:00</td>\n",
              "      <td>193.085632</td>\n",
              "      <td>18</td>\n",
              "    </tr>\n",
              "    <tr>\n",
              "      <th>2020-01-01 19:00:00</th>\n",
              "      <td>58</td>\n",
              "      <td>2020-01-01 19:00:00</td>\n",
              "      <td>192.788513</td>\n",
              "      <td>19</td>\n",
              "    </tr>\n",
              "    <tr>\n",
              "      <th>2020-01-01 20:00:00</th>\n",
              "      <td>58</td>\n",
              "      <td>2020-01-01 20:00:00</td>\n",
              "      <td>192.646423</td>\n",
              "      <td>20</td>\n",
              "    </tr>\n",
              "    <tr>\n",
              "      <th>2020-01-01 21:00:00</th>\n",
              "      <td>58</td>\n",
              "      <td>2020-01-01 21:00:00</td>\n",
              "      <td>192.499603</td>\n",
              "      <td>21</td>\n",
              "    </tr>\n",
              "    <tr>\n",
              "      <th>2020-01-01 22:00:00</th>\n",
              "      <td>58</td>\n",
              "      <td>2020-01-01 22:00:00</td>\n",
              "      <td>192.941925</td>\n",
              "      <td>22</td>\n",
              "    </tr>\n",
              "    <tr>\n",
              "      <th>2020-01-01 23:00:00</th>\n",
              "      <td>58</td>\n",
              "      <td>2020-01-01 23:00:00</td>\n",
              "      <td>121.037857</td>\n",
              "      <td>23</td>\n",
              "    </tr>\n",
              "    <tr>\n",
              "      <th>2020-01-02 00:00:00</th>\n",
              "      <td>58</td>\n",
              "      <td>2020-01-02 00:00:00</td>\n",
              "      <td>110.908203</td>\n",
              "      <td>0</td>\n",
              "    </tr>\n",
              "  </tbody>\n",
              "</table>\n",
              "</div>\n",
              "      <button class=\"colab-df-convert\" onclick=\"convertToInteractive('df-46942db4-e683-408b-8422-2a48d7d5540c')\"\n",
              "              title=\"Convert this dataframe to an interactive table.\"\n",
              "              style=\"display:none;\">\n",
              "        \n",
              "  <svg xmlns=\"http://www.w3.org/2000/svg\" height=\"24px\"viewBox=\"0 0 24 24\"\n",
              "       width=\"24px\">\n",
              "    <path d=\"M0 0h24v24H0V0z\" fill=\"none\"/>\n",
              "    <path d=\"M18.56 5.44l.94 2.06.94-2.06 2.06-.94-2.06-.94-.94-2.06-.94 2.06-2.06.94zm-11 1L8.5 8.5l.94-2.06 2.06-.94-2.06-.94L8.5 2.5l-.94 2.06-2.06.94zm10 10l.94 2.06.94-2.06 2.06-.94-2.06-.94-.94-2.06-.94 2.06-2.06.94z\"/><path d=\"M17.41 7.96l-1.37-1.37c-.4-.4-.92-.59-1.43-.59-.52 0-1.04.2-1.43.59L10.3 9.45l-7.72 7.72c-.78.78-.78 2.05 0 2.83L4 21.41c.39.39.9.59 1.41.59.51 0 1.02-.2 1.41-.59l7.78-7.78 2.81-2.81c.8-.78.8-2.07 0-2.86zM5.41 20L4 18.59l7.72-7.72 1.47 1.35L5.41 20z\"/>\n",
              "  </svg>\n",
              "      </button>\n",
              "      \n",
              "  <style>\n",
              "    .colab-df-container {\n",
              "      display:flex;\n",
              "      flex-wrap:wrap;\n",
              "      gap: 12px;\n",
              "    }\n",
              "\n",
              "    .colab-df-convert {\n",
              "      background-color: #E8F0FE;\n",
              "      border: none;\n",
              "      border-radius: 50%;\n",
              "      cursor: pointer;\n",
              "      display: none;\n",
              "      fill: #1967D2;\n",
              "      height: 32px;\n",
              "      padding: 0 0 0 0;\n",
              "      width: 32px;\n",
              "    }\n",
              "\n",
              "    .colab-df-convert:hover {\n",
              "      background-color: #E2EBFA;\n",
              "      box-shadow: 0px 1px 2px rgba(60, 64, 67, 0.3), 0px 1px 3px 1px rgba(60, 64, 67, 0.15);\n",
              "      fill: #174EA6;\n",
              "    }\n",
              "\n",
              "    [theme=dark] .colab-df-convert {\n",
              "      background-color: #3B4455;\n",
              "      fill: #D2E3FC;\n",
              "    }\n",
              "\n",
              "    [theme=dark] .colab-df-convert:hover {\n",
              "      background-color: #434B5C;\n",
              "      box-shadow: 0px 1px 3px 1px rgba(0, 0, 0, 0.15);\n",
              "      filter: drop-shadow(0px 1px 2px rgba(0, 0, 0, 0.3));\n",
              "      fill: #FFFFFF;\n",
              "    }\n",
              "  </style>\n",
              "\n",
              "      <script>\n",
              "        const buttonEl =\n",
              "          document.querySelector('#df-46942db4-e683-408b-8422-2a48d7d5540c button.colab-df-convert');\n",
              "        buttonEl.style.display =\n",
              "          google.colab.kernel.accessAllowed ? 'block' : 'none';\n",
              "\n",
              "        async function convertToInteractive(key) {\n",
              "          const element = document.querySelector('#df-46942db4-e683-408b-8422-2a48d7d5540c');\n",
              "          const dataTable =\n",
              "            await google.colab.kernel.invokeFunction('convertToInteractive',\n",
              "                                                     [key], {});\n",
              "          if (!dataTable) return;\n",
              "\n",
              "          const docLinkHtml = 'Like what you see? Visit the ' +\n",
              "            '<a target=\"_blank\" href=https://colab.research.google.com/notebooks/data_table.ipynb>data table notebook</a>'\n",
              "            + ' to learn more about interactive tables.';\n",
              "          element.innerHTML = '';\n",
              "          dataTable['output_type'] = 'display_data';\n",
              "          await google.colab.output.renderOutput(dataTable, element);\n",
              "          const docLink = document.createElement('div');\n",
              "          docLink.innerHTML = docLinkHtml;\n",
              "          element.appendChild(docLink);\n",
              "        }\n",
              "      </script>\n",
              "    </div>\n",
              "  </div>\n",
              "  "
            ]
          },
          "metadata": {},
          "execution_count": 15
        }
      ]
    },
    {
      "cell_type": "code",
      "source": [
        "device = torch.device(\"cuda:0\" if torch.cuda.is_available() else \"cpu\")\n",
        "\n",
        "class ReplayBuffer:\n",
        "  def __init__(self, action_size, buffer_size, batch_size, seed): \n",
        "    self.action_size = action_size\n",
        "    self.memory = deque(maxlen=buffer_size)\n",
        "    self.batch_size = batch_size\n",
        "    self.experiences = namedtuple(\"Experience\", field_names=[\"state\", \"action\", \"reward\", \"next_state\", \"done\"])\n",
        "    self.seed = random.seed(seed)\n",
        "        \n",
        "  def add(self,state, action, reward, next_state,done):\n",
        "    e = self.experiences(state,action,reward,next_state,done)\n",
        "    self.memory.append(e)\n",
        "\n",
        "  def sample(self):\n",
        "    experiences = random.sample(self.memory,k=self.batch_size)\n",
        "    states = torch.from_numpy(np.vstack([e.state for e in experiences if e is not None])).float().to(device)\n",
        "    actions = torch.from_numpy(np.vstack([e.action for e in experiences if e is not None])).long().to(device)\n",
        "    rewards = torch.from_numpy(np.vstack([e.reward for e in experiences if e is not None])).float().to(device)\n",
        "    next_states = torch.from_numpy(np.vstack([e.next_state for e in experiences if e is not None])).float().to(device)\n",
        "    dones = torch.from_numpy(np.vstack([e.done for e in experiences if e is not None]).astype(np.uint8)).float().to(device)\n",
        "    return (states,actions,rewards,next_states,dones)\n",
        "\n",
        "  def __len__(self):\n",
        "    return len(self.memory)"
      ],
      "metadata": {
        "id": "19JCmg1sJE1r"
      },
      "execution_count": null,
      "outputs": []
    },
    {
      "cell_type": "code",
      "source": [
        "class QNetwork(nn.Module):\n",
        "    def __init__(self, state_size,action_size, seed, fc1_unit=64,fc2_unit=64,fc3_unit=32,fc4_unit=32):\n",
        "        super(QNetwork,self).__init__()\n",
        "        self.seed = torch.manual_seed(seed)\n",
        "        self.fc1= nn.Linear(state_size,fc1_unit)\n",
        "        self.fc2 = nn.Linear(fc1_unit,fc2_unit)\n",
        "        self.fc3 = nn.Linear(fc2_unit,fc3_unit)\n",
        "        self.fc4 = nn.Linear(fc3_unit,fc4_unit)\n",
        "        self.fc5 = nn.Linear(fc4_unit,action_size)\n",
        "        \n",
        "    def forward(self,x):\n",
        "        x = F.relu(self.fc1(x))\n",
        "        x = F.relu(self.fc2(x))\n",
        "        x = F.relu(self.fc3(x))\n",
        "        x = F.relu(self.fc4(x))\n",
        "        return self.fc5(x)"
      ],
      "metadata": {
        "id": "cWYnm7xQK-LD"
      },
      "execution_count": null,
      "outputs": []
    },
    {
      "cell_type": "code",
      "source": [
        "class bombeo():\n",
        "  def __init__(self):\n",
        "    self.Nmin_pastora = 1033\n",
        "    self.Nmax_pastora = 2688\n",
        "    self.Nmin_miraflores = 1000\n",
        "    self.Nmax_miraflores = 2400\n",
        "\n",
        "    self.Qa_pastora = {0:0,1:61,2:112,3:142}\n",
        "    self.Qa_miraflores = {0:0,1:58,2:105,3:138}\n",
        "\n",
        "    self.number_pumps = {0:[0,0],1:[1,0],2:[2,0],3:[3,0],4:[1,1],5:[2,1],6:[3,1],7:[1,2],8:[2,2],\n",
        "                    9:[3,2],10:[1,3],11:[2,3],12:[3,3],13:[0,1],14:[0,2],15:[0,3]}\n",
        "\n",
        "    self.reset()\n",
        "\n",
        "    self.CostoEnergia = {0:429,1:424,2:424,3:424,4:424,5:429,6:429,7:429,8:429,\n",
        "                         9:429,10:433,11:433,12:433,13:429,14:429,15:429,16:429,\n",
        "                         17:429,18:429,19:433,20:433,21:433,22:429,23:429}\n",
        "\n",
        "    self.Eficiencia_pastora = {0:0,1:0.551,2:0.574,3:0.599}\n",
        "    self.Eficiencia_miraflores = {0:0,1:0.489,2:0.545,3:0.586}\n",
        "\n",
        "  def demanda_hora_pastora(self,hora):\n",
        "    values_pastora,indices_pastora=np.histogram(data_demanda_pastora['Valor'][data_demanda_pastora['hora']==hora],bins=1000)\n",
        "    values_pastora=values_pastora.astype(np.float32)\n",
        "    weights=values_pastora/np.sum(values_pastora)\n",
        "    self.value_hour_pastora=np.random.choice(indices_pastora[1:],1,p=weights)[0]\n",
        "    return self.value_hour_pastora\n",
        "\n",
        "  def demanda_hora_miraflores(self,hora):\n",
        "    values_miraflores,indices_miraflores=np.histogram(data_demanda_miraflores['Valor'][data_demanda_miraflores['hora']==hora],bins=1000)\n",
        "    values_miraflores=values_miraflores.astype(np.float32)\n",
        "    weights=values_miraflores/np.sum(values_miraflores)\n",
        "    self.value_hour_miraflores=np.random.choice(indices_miraflores[1:],1,p=weights)[0]\n",
        "    return self.value_hour_miraflores\n",
        "\n",
        "  def reset(self):\n",
        "    N_pastora = random.uniform(1233,2388)\n",
        "    N_miraflores = random.uniform(1200,2200)\n",
        "    H = 0\n",
        "    D_pastora = self.demanda_hora_pastora(H)\n",
        "    D_miraflores = self.demanda_hora_miraflores(H)\n",
        "    self.s=np.array([N_pastora,N_miraflores,D_pastora,D_miraflores,H])\n",
        "    return np.array([N_pastora,N_miraflores,D_pastora,D_miraflores,H])\n",
        "  \n",
        "  def step(self, acc):\n",
        "    done = False\n",
        "    N_pastora,N_miraflores,D_pastora,D_miraflores,H=self.s\n",
        "    Nh = H+1\n",
        "    if Nh==24:\n",
        "      Nh=0\n",
        "    Dn_pastora = self.demanda_hora_pastora(Nh)\n",
        "    Dn_miraflores = self.demanda_hora_miraflores(Nh)             \n",
        "\n",
        "    Nn_pastora = N_pastora + self.Qa_pastora[self.number_pumps[acc][1]] - D_pastora\n",
        "    Nn_miraflores = N_miraflores + self.Qa_miraflores[self.number_pumps[acc][0]] - D_miraflores - self.Qa_pastora[self.number_pumps[acc][1]]\n",
        "\n",
        "    if Nn_pastora <0:\n",
        "      Nn_pastora =0\n",
        "    if Nn_miraflores <0:\n",
        "      Nn_miraflores =0\n",
        "      #done = True\n",
        "    if Nn_pastora>3000:\n",
        "      Nn_pastora =3000\n",
        "    if Nn_miraflores>2850:\n",
        "      Nn_miraflores =2850\n",
        "      #done = True\n",
        "    Bn = acc\n",
        "    \n",
        "    reward_miraflores = (self.Qa_miraflores[self.number_pumps[acc][0]]*3.2*self.Eficiencia_miraflores[self.number_pumps[acc][0]])*(self.CostoEnergia[H])\n",
        "    reward_pastora = (self.Qa_pastora[self.number_pumps[acc][1]]*3.6*self.Eficiencia_pastora[self.number_pumps[acc][1]])*(self.CostoEnergia[H])\n",
        "    reward = -(reward_miraflores + reward_pastora)\n",
        "\n",
        "    if (Nn_pastora >= self.Nmax_pastora):\n",
        "      reward += -800000\n",
        "    if (Nn_miraflores >= self.Nmax_miraflores):\n",
        "      reward += -800000\n",
        "    if (Nn_pastora <= self.Nmin_pastora):\n",
        "      reward += -800000\n",
        "    if (Nn_miraflores <= self.Nmin_miraflores):\n",
        "      reward += -800000\n",
        "\n",
        "    self.s=np.array([Nn_pastora,Nn_miraflores,Dn_pastora,Dn_miraflores,Nh])\n",
        "    return self.s, reward, done, {}\n",
        "\n",
        "env = bombeo() \n",
        "env.reset()"
      ],
      "metadata": {
        "colab": {
          "base_uri": "https://localhost:8080/"
        },
        "id": "WzexVkhELE31",
        "outputId": "62f8c267-872a-4eda-b14f-9ab91525f39d"
      },
      "execution_count": null,
      "outputs": [
        {
          "output_type": "execute_result",
          "data": {
            "text/plain": [
              "array([1569.84015295, 2118.28841048,   28.30634655,  194.74435824,\n",
              "          0.        ])"
            ]
          },
          "metadata": {},
          "execution_count": 43
        }
      ]
    },
    {
      "cell_type": "code",
      "source": [
        "env2 = bombeo() "
      ],
      "metadata": {
        "id": "pvbR49sX1va-"
      },
      "execution_count": null,
      "outputs": []
    },
    {
      "cell_type": "code",
      "source": [
        "env.step(1)"
      ],
      "metadata": {
        "colab": {
          "base_uri": "https://localhost:8080/"
        },
        "id": "2MAF--Gn120k",
        "outputId": "09d29d48-5a52-4cdc-e198-ee27ced18dfe"
      },
      "execution_count": null,
      "outputs": [
        {
          "output_type": "execute_result",
          "data": {
            "text/plain": [
              "(array([1.63463678e+03, 1.27151683e+03, 3.22429531e+01, 1.40466664e+02,\n",
              "        1.00000000e+00]), -38481.5616, False, {})"
            ]
          },
          "metadata": {},
          "execution_count": 42
        }
      ]
    },
    {
      "cell_type": "code",
      "source": [
        "#Construcción del agente que soluciona el modelo\n",
        "BUFFER_SIZE = int(1e5)  #replay buffer size\n",
        "BATCH_SIZE = 32         # minibatch size\n",
        "GAMMA = 0.99            # discount factor\n",
        "TAU = 1e-4             # for soft update of target parameters\n",
        "LR = 1e-3               # learning rate\n",
        "UPDATE_EVERY = 8       # how often to update the network. Not done on every movement. \n",
        "PATH = 'model.pth'\n",
        "\n",
        "class Agent():\n",
        "  def __init__(self, state_size, action_size, seed):\n",
        "    self.state_size = state_size\n",
        "    self.action_size = action_size\n",
        "    self.seed = random.seed(seed)\n",
        "    self.qnetwork_local = QNetwork(state_size, action_size, seed).to(device) #Red para entrenar localmente\n",
        "    self.qnetwork_target = QNetwork(state_size, action_size, seed).to(device) #Red de referencia\n",
        "    self.optimizer = optim.Adam(self.qnetwork_local.parameters(),lr=LR)\n",
        "    self.memory = ReplayBuffer(action_size, BUFFER_SIZE,BATCH_SIZE,seed)\n",
        "    self.t_step = 0\n",
        "        \n",
        "  #El método step no calcula lo que pasa en el movimiento, sino que administra la información del movimiento.\n",
        "  def step(self, state, action, reward, next_step, done):\n",
        "    self.memory.add(state, action, reward, next_step, done) #Adiciona a la memoria los datos obtenidos en el paso de movimiento. \n",
        "    self.t_step = (self.t_step+1)% UPDATE_EVERY             #Calcula cada cierto tiempo que se debe recalcular los pesos de la red neuronal. \n",
        "    if self.t_step == 0:\n",
        "      if len(self.memory)>BATCH_SIZE:\n",
        "        experience = self.memory.sample() #Se extren algunas muestras de la experiencia previa. Pero aleatorias. \n",
        "        self.learn(experience, GAMMA)     #Se le indica a la red que debe aprender. Esto es, actualizar los parámetros de acuerdo con un gradiente descendente. \n",
        "\n",
        "  #Método para encontrar la acción a realizar. Se busca dentro del red neuronal local, cuál es el valor de Q(s,a) estimado. Pero dependiendo de un epsilon, se define la acción óptima o la aleatoria\n",
        "  def act(self, state, eps = 0): \n",
        "    state = torch.from_numpy(state).float().unsqueeze(0).to(device)\n",
        "    self.qnetwork_local.eval() #La red no va a entrenar, sino a evaluar. \n",
        "    with torch.no_grad():\n",
        "      action_values = self.qnetwork_local(state)\n",
        "    self.qnetwork_local.train() #La red dejó de evaluar. Ahora puede ser entrenada de nuevo. \n",
        "    \n",
        "    if random.random() > eps:\n",
        "      return np.argmax(action_values.cpu().data.numpy())\n",
        "    else:\n",
        "      return random.choice(np.arange(self.action_size))\n",
        "            \n",
        "  #En este método se le dice a la red que aprenda. La red local. Se hace una evaluación de un gradiente descendente y se calculan nuevos parámetros. Pero se hace con un batch de valores, no con uno solo. \n",
        "  def learn(self, experiences, gamma):\n",
        "    states, actions, rewards, next_states, dones = experiences\n",
        "    criterion = torch.nn.MSELoss() #Norma L2 para el cálculo del error. \n",
        "    self.qnetwork_local.train() #La red local se va a entrenar. \n",
        "    self.qnetwork_target.eval() #Esta red no se va a modificar, solamente a evaluar lo que produce a la salida. \n",
        "    predicted_targets = self.qnetwork_local(states).gather(1,actions) #Esto es lo que evalua la red neuronal local. Lo predicho de las acciones. \n",
        "\n",
        "    with torch.no_grad():\n",
        "        labels_next = self.qnetwork_target(next_states).detach().max(1)[0].unsqueeze(1)\n",
        "    #La red target se evalua en el estado siguiente, en Q(s',a). No en el estado actual y se recibe el valor máximo de acción a tomar allí. \n",
        "    # .detach() ->  Returns a new Tensor, detached from the current graph.\n",
        "    labels = rewards + (gamma* labels_next*(1-dones)) #Acá se actualizan los valores predichos de los estados que son terminales y de los que no son terminales. ****\n",
        "    #Se hace la función de error,\n",
        "    loss = criterion(predicted_targets,labels).to(device)\n",
        "    self.optimizer.zero_grad() #Reset del gradiente\n",
        "    loss.backward() #Gradiente descendente\n",
        "    self.optimizer.step() #Actualización de los parámetros. \n",
        "    self.save(self.qnetwork_local,PATH)\n",
        "\n",
        "    # ------------------- update target network ------------------- #\n",
        "    #Esta actualización puede hacerse cada cierto tiempo completamente copiando los parámetros de una red a otra o de manera suave, haciendo un proceso de suavización exponencial. Pero la red\n",
        "    #target no puede actualizarse al mismo ritmo que la red locakl. \n",
        "    self.soft_update(self.qnetwork_local,self.qnetwork_target,TAU)\n",
        "\n",
        "  def save(self,model,path):\n",
        "    #device = torch.device(\"cuda\")\n",
        "    model.to(device)\n",
        "    torch.save(model.state_dict(),path)\n",
        "\n",
        "  #Actualización de los parámetros de la red target suavizasos a partir de la red local. El parámtro TAU determina que tanto afecta el nuevo valor al anterior. TAU cercano a 0, hace que el aprendizaje sea lento\n",
        "  def soft_update(self, local_model, target_model, tau):\n",
        "    for target_param, local_param in zip(target_model.parameters(), local_model.parameters()):\n",
        "      target_param.data.copy_(tau*local_param.data + (1-tau)*target_param.data)\n"
      ],
      "metadata": {
        "id": "q1F3zouVOP2F"
      },
      "execution_count": null,
      "outputs": []
    },
    {
      "cell_type": "code",
      "source": [
        "#Se crea el agente\n",
        "agent = Agent(state_size=5, action_size=15, seed=0)\n",
        "\n",
        "#Método principal del programa\n",
        "def dqn(n_episodes= 20000, max_t = 50, eps_start=1.0, eps_end = 0.01, eps_decay=0.96):\n",
        "  plt.figure(figsize=(10,10))\n",
        "  scores = [0] # lista que contiene las recompensas de cada movimiento. \n",
        "  eps = eps_start\n",
        "  for i_episode in range(1, n_episodes+1):\n",
        "    state = env.reset()\n",
        "    score = 0\n",
        "    x=[]\n",
        "    for t in range(max_t):\n",
        "      action = agent.act(state,eps) #Se busca la nueva acción de acuerdo con \n",
        "      next_state,reward,done,_ = env.step(action)\n",
        "      agent.step(state,action,reward,next_state,done)\n",
        "      state = next_state\n",
        "      score += reward\n",
        "      x.append(state[0])\n",
        "      if(done):\n",
        "        break\n",
        "      eps = max(eps*eps_decay,eps_end)## decrease the epsilon\n",
        "      #print('\\rEpisode {}\\tAverage Score {:.2f}'.format(i_episode,np.mean(scores_window)), end=\"\")\n",
        "      if(i_episode%2000==0):\n",
        "        print('Episode {}\\tAverage Score {:.2f}'.format(i_episode,scores[-1]), end=\"\")\n",
        "      else:\n",
        "        print('\\rEpisode {}\\tAverage Score {:.2f}'.format(i_episode,scores[-1]), end=\"\")\n",
        "\n",
        "    scores.append(score) ## sae the most recent score\n",
        "\n",
        "    if(i_episode%2000==0):\n",
        "      plt.plot(x,label='Iteracion: '+str(i_episode))\n",
        "      plt.ylim(0,3000)\n",
        "  plt.grid()\n",
        "  plt.legend()\n",
        "  return scores"
      ],
      "metadata": {
        "id": "FgCsN6w-O2V_"
      },
      "execution_count": null,
      "outputs": []
    },
    {
      "cell_type": "code",
      "source": [
        "import matplotlib.pyplot as plt\n",
        "scores= dqn(n_episodes= 20000)"
      ],
      "metadata": {
        "colab": {
          "base_uri": "https://localhost:8080/",
          "height": 633
        },
        "id": "XZ-xikU0PFpY",
        "outputId": "ee32e8eb-b974-463d-c3e6-9a0d89964b52"
      },
      "execution_count": null,
      "outputs": [
        {
          "output_type": "stream",
          "name": "stdout",
          "text": [
            "Episode 19999\tAverage Score -44918230.95Episode 20000\tAverage Score -45318299.31Episode 20000\tAverage Score -45318299.31Episode 20000\tAverage Score -45318299.31Episode 20000\tAverage Score -45318299.31Episode 20000\tAverage Score -45318299.31Episode 20000\tAverage Score -45318299.31Episode 20000\tAverage Score -45318299.31Episode 20000\tAverage Score -45318299.31Episode 20000\tAverage Score -45318299.31Episode 20000\tAverage Score -45318299.31Episode 20000\tAverage Score -45318299.31Episode 20000\tAverage Score -45318299.31Episode 20000\tAverage Score -45318299.31Episode 20000\tAverage Score -45318299.31Episode 20000\tAverage Score -45318299.31Episode 20000\tAverage Score -45318299.31Episode 20000\tAverage Score -45318299.31Episode 20000\tAverage Score -45318299.31Episode 20000\tAverage Score -45318299.31Episode 20000\tAverage Score -45318299.31Episode 20000\tAverage Score -45318299.31Episode 20000\tAverage Score -45318299.31Episode 20000\tAverage Score -45318299.31Episode 20000\tAverage Score -45318299.31Episode 20000\tAverage Score -45318299.31Episode 20000\tAverage Score -45318299.31Episode 20000\tAverage Score -45318299.31Episode 20000\tAverage Score -45318299.31Episode 20000\tAverage Score -45318299.31Episode 20000\tAverage Score -45318299.31Episode 20000\tAverage Score -45318299.31Episode 20000\tAverage Score -45318299.31Episode 20000\tAverage Score -45318299.31Episode 20000\tAverage Score -45318299.31Episode 20000\tAverage Score -45318299.31Episode 20000\tAverage Score -45318299.31Episode 20000\tAverage Score -45318299.31Episode 20000\tAverage Score -45318299.31Episode 20000\tAverage Score -45318299.31Episode 20000\tAverage Score -45318299.31Episode 20000\tAverage Score -45318299.31Episode 20000\tAverage Score -45318299.31Episode 20000\tAverage Score -45318299.31Episode 20000\tAverage Score -45318299.31Episode 20000\tAverage Score -45318299.31Episode 20000\tAverage Score -45318299.31Episode 20000\tAverage Score -45318299.31Episode 20000\tAverage Score -45318299.31Episode 20000\tAverage Score -45318299.31Episode 20000\tAverage Score -45318299.31"
          ]
        },
        {
          "output_type": "display_data",
          "data": {
            "text/plain": [
              "<Figure size 720x720 with 1 Axes>"
            ],
            "image/png": "[encoded data removed]"
          },
          "metadata": {
            "needs_background": "light"
          }
        }
      ]
    },
    {
      "cell_type": "code",
      "source": [
        "plt.plot(scores)"
      ],
      "metadata": {
        "colab": {
          "base_uri": "https://localhost:8080/",
          "height": 293
        },
        "id": "nbPKRYvuJ0G7",
        "outputId": "f31e9e15-a2dd-4d57-82f7-5bf0f0915ace"
      },
      "execution_count": null,
      "outputs": [
        {
          "output_type": "execute_result",
          "data": {
            "text/plain": [
              "[<matplotlib.lines.Line2D at 0x7f42100abb80>]"
            ]
          },
          "metadata": {},
          "execution_count": 52
        },
        {
          "output_type": "display_data",
          "data": {
            "text/plain": [
              "<Figure size 432x288 with 1 Axes>"
            ],
            "image/png": "[encoded data removed]"
          },
          "metadata": {
            "needs_background": "light"
          }
        }
      ]
    },
    {
      "cell_type": "code",
      "source": [
        "s=torch.from_numpy(np.array([2400,2300,65,10,22])).float().to(device)\n",
        "out=agent.qnetwork_local(s)\n",
        "with(torch.no_grad()):\n",
        "  acc=np.argmax(out.cpu().numpy())\n",
        "acc"
      ],
      "metadata": {
        "colab": {
          "base_uri": "https://localhost:8080/"
        },
        "id": "f-o0DSH5cMIM",
        "outputId": "e895c746-af67-461b-b128-287d79046d08"
      },
      "execution_count": null,
      "outputs": [
        {
          "output_type": "execute_result",
          "data": {
            "text/plain": [
              "1"
            ]
          },
          "metadata": {},
          "execution_count": 57
        }
      ]
    },
    {
      "cell_type": "code",
      "source": [
        "from sys import version_info\n",
        "from scipy.interpolate import griddata\n",
        "agent.qnetwork_local.eval()\n",
        "ddemanda, nnivel = np.meshgrid(np.linspace(20,130,50),np.linspace(1000,3000,50))\n",
        "Pi=np.zeros_like(ddemanda)\n",
        "for i in range(len(ddemanda)):\n",
        "  for j in range(len(nnivel)):\n",
        "    for z in range(24):\n",
        "      with(torch.no_grad()):\n",
        "        if z == 22:\n",
        "          s=torch.from_numpy(np.array([nnivel[i,j],ddemanda[i,j],z])).float().to(device)\n",
        "          out=agent.qnetwork_local(s)\n",
        "          acc=np.argmax(out.cpu().numpy())\n",
        "          Pi[i,j]=acc\n",
        "plt.contourf(nnivel, ddemanda, Pi, 50)\n",
        "plt.colorbar()\n",
        "plt.xlabel('Nivel')\n",
        "plt.ylabel('Demanda')"
      ],
      "metadata": {
        "colab": {
          "base_uri": "https://localhost:8080/",
          "height": 296
        },
        "id": "-GDK1RgKY43f",
        "outputId": "1160d482-1ff0-4b10-fa72-36210c5c678e"
      },
      "execution_count": null,
      "outputs": [
        {
          "output_type": "execute_result",
          "data": {
            "text/plain": [
              "Text(0, 0.5, 'Demanda')"
            ]
          },
          "metadata": {},
          "execution_count": 124
        },
        {
          "output_type": "display_data",
          "data": {
            "text/plain": [
              "<Figure size 432x288 with 2 Axes>"
            ],
            "image/png": "[encoded data removed]"
          },
          "metadata": {
            "needs_background": "light"
          }
        }
      ]
    },
    {
      "cell_type": "code",
      "source": [
        "loaded_model = QNetwork(state_size=3,action_size=4, seed=0, fc1_unit=64, fc2_unit=64)\n",
        "loaded_model.load_state_dict(torch.load(PATH))\n",
        "loaded_model.to(device)\n",
        "loaded_model.eval()"
      ],
      "metadata": {
        "id": "KJIbAdK0-TbV",
        "colab": {
          "base_uri": "https://localhost:8080/"
        },
        "outputId": "46726515-7d5d-4fc4-8bc7-a73fd820c4b4"
      },
      "execution_count": null,
      "outputs": [
        {
          "output_type": "execute_result",
          "data": {
            "text/plain": [
              "QNetwork(\n",
              "  (fc1): Linear(in_features=3, out_features=64, bias=True)\n",
              "  (fc2): Linear(in_features=64, out_features=64, bias=True)\n",
              "  (fc3): Linear(in_features=64, out_features=32, bias=True)\n",
              "  (fc4): Linear(in_features=32, out_features=32, bias=True)\n",
              "  (fc5): Linear(in_features=32, out_features=4, bias=True)\n",
              ")"
            ]
          },
          "metadata": {},
          "execution_count": 23
        }
      ]
    },
    {
      "cell_type": "code",
      "source": [
        "s=torch.from_numpy(np.array([1190,55,12])).float().to(device)\n",
        "loaded_model.eval()\n",
        "with(torch.no_grad()):\n",
        "  out=loaded_model(s)\n",
        "  acc=np.argmax(out.cpu().numpy())\n",
        "acc"
      ],
      "metadata": {
        "colab": {
          "base_uri": "https://localhost:8080/"
        },
        "id": "yYIQALUcB3co",
        "outputId": "4c0520dd-fdb5-49a2-e221-db1760249e50"
      },
      "execution_count": null,
      "outputs": [
        {
          "output_type": "execute_result",
          "data": {
            "text/plain": [
              "0"
            ]
          },
          "metadata": {},
          "execution_count": 24
        }
      ]
    },
    {
      "cell_type": "code",
      "source": [],
      "metadata": {
        "id": "-5mnUl_fh4hS"
      },
      "execution_count": null,
      "outputs": []
    }
  ]
}